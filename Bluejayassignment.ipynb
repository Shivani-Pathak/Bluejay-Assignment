{
  "nbformat": 4,
  "nbformat_minor": 0,
  "metadata": {
    "colab": {
      "provenance": [],
      "mount_file_id": "18wyykHGU5VzzAgjTM9CvkqrL4aasCS2Y",
      "authorship_tag": "ABX9TyOSgDKap6Bo2Q315dwjufkL",
      "include_colab_link": true
    },
    "kernelspec": {
      "name": "python3",
      "display_name": "Python 3"
    },
    "language_info": {
      "name": "python"
    }
  },
  "cells": [
    {
      "cell_type": "markdown",
      "metadata": {
        "id": "view-in-github",
        "colab_type": "text"
      },
      "source": [
        "<a href=\"https://colab.research.google.com/github/Shivani-Pathak/Bluejay-Assignment/blob/main/Bluejayassignment.ipynb\" target=\"_parent\"><img src=\"https://colab.research.google.com/assets/colab-badge.svg\" alt=\"Open In Colab\"/></a>"
      ]
    },
    {
      "cell_type": "code",
      "execution_count": 1,
      "metadata": {
        "colab": {
          "base_uri": "https://localhost:8080/"
        },
        "id": "FyTDEgo87wVQ",
        "outputId": "d3fcbd1b-b23d-4217-f9bb-690ee866325f"
      },
      "outputs": [
        {
          "output_type": "stream",
          "name": "stdout",
          "text": [
            "Mounted at /content/MyDrive\n"
          ]
        }
      ],
      "source": [
        "from google.colab import drive\n",
        "drive.mount('/content/MyDrive')"
      ]
    },
    {
      "cell_type": "code",
      "source": [
        "import pandas as pd\n",
        "from datetime import timedelta\n",
        "\n",
        "def analyze_data(data, output_file):\n",
        "    with open(output_file, 'w') as file:\n",
        "        for name, group in data.groupby('Employee Name'):\n",
        "            consecutive_days = 0\n",
        "            previous_end_time = None\n",
        "\n",
        "            for index, entry in group.iterrows():\n",
        "                current_start_time = entry['Time']\n",
        "\n",
        "                # Check for 7 consecutive days\n",
        "                if consecutive_days == 7:\n",
        "                    file.write(f\"Employee {name} ({entry['Position ID']}) worked for 7 consecutive days.\\n\")\n",
        "                    consecutive_days = 0\n",
        "\n",
        "                # Check for less than 10 hours between shifts but greater than 1 hour\n",
        "                if previous_end_time is not None:\n",
        "                    time_difference = (current_start_time - previous_end_time).total_seconds() // 3600\n",
        "                    if 1 < time_difference < 10:\n",
        "                        file.write(f\"Employee {name} ({entry['Position ID']}) has less than 10 hours between shifts but greater than 1 hour.\\n\")\n",
        "\n",
        "                # Check for more than 14 hours in a single shift\n",
        "                hours_worked_str = str(entry['Timecard Hours (as Time)'])\n",
        "\n",
        "                try:\n",
        "                    hours_worked = sum(int(x) * 60 ** i for i, x in enumerate(reversed(hours_worked_str.split(\":\"))))\n",
        "                except ValueError:\n",
        "                    # Handle the case where the value is not a valid time\n",
        "                    hours_worked = 0\n",
        "\n",
        "                if hours_worked > 14:\n",
        "                    file.write(f\"Employee {name} ({entry['Position ID']}) worked for more than 14 hours in a single shift.\\n\")\n",
        "\n",
        "                consecutive_days += 1\n",
        "                previous_end_time = current_start_time + timedelta(hours=hours_worked)\n",
        "\n",
        "            # Check if the last shift of the week exceeds 14 hours to not  consider the edge case that arise. Its best not to make assumptions.\n",
        "            if previous_end_time is not None and (previous_end_time - current_start_time).total_seconds() // 3600 > 14:\n",
        "                file.write(f\"Employee {name} ({entry['Position ID']}) worked for more than 14 hours in the last shift of the week.\\n\")\n",
        "\n",
        "if __name__ == \"__main__\":\n",
        "    file_path = '/content/drive/MyDrive/Colab Notebooks/Assignment_Timecard.xlsx'  # Update with your input file path\n",
        "    output_file = '/content/drive/MyDrive/output.txt'   # Update with the desired output file path\n",
        "    data = pd.read_excel(file_path)\n",
        "    data['Time'] = pd.to_datetime(data['Time'])  # Convert 'Time' column to datetime\n",
        "    analyze_data(data, output_file)\n"
      ],
      "metadata": {
        "id": "bHfPBRmgEZvW"
      },
      "execution_count": 14,
      "outputs": []
    }
  ]
}